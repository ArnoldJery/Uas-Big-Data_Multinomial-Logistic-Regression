{
 "cells": [
  {
   "cell_type": "code",
   "execution_count": 1,
   "id": "35b89ff9",
   "metadata": {
    "_cell_guid": "b1076dfc-b9ad-4769-8c92-a6c4dae69d19",
    "_uuid": "8f2839f25d086af736a60e9eeb907d3b93b6e0e5",
    "execution": {
     "iopub.execute_input": "2022-07-05T15:21:47.296570Z",
     "iopub.status.busy": "2022-07-05T15:21:47.296099Z",
     "iopub.status.idle": "2022-07-05T15:21:47.315925Z",
     "shell.execute_reply": "2022-07-05T15:21:47.314806Z"
    },
    "papermill": {
     "duration": 0.03127,
     "end_time": "2022-07-05T15:21:47.318825",
     "exception": false,
     "start_time": "2022-07-05T15:21:47.287555",
     "status": "completed"
    },
    "tags": []
   },
   "outputs": [
    {
     "name": "stdout",
     "output_type": "stream",
     "text": [
      "/kaggle/input/uas-bigdata/The Emitten.csv\n"
     ]
    }
   ],
   "source": [
    "# This Python 3 environment comes with many helpful analytics libraries installed\n",
    "# It is defined by the kaggle/python Docker image: https://github.com/kaggle/docker-python\n",
    "# For example, here's several helpful packages to load\n",
    "\n",
    "import numpy as np # linear algebra\n",
    "import pandas as pd # data processing, CSV file I/O (e.g. pd.read_csv)\n",
    "\n",
    "# Input data files are available in the read-only \"../input/\" directory\n",
    "# For example, running this (by clicking run or pressing Shift+Enter) will list all files under the input directory\n",
    "\n",
    "import os\n",
    "for dirname, _, filenames in os.walk('/kaggle/input'):\n",
    "    for filename in filenames:\n",
    "        print(os.path.join(dirname, filename))\n",
    "\n",
    "# You can write up to 20GB to the current directory (/kaggle/working/) that gets preserved as output when you create a version using \"Save & Run All\" \n",
    "# You can also write temporary files to /kaggle/temp/, but they won't be saved outside of the current session"
   ]
  },
  {
   "cell_type": "code",
   "execution_count": 2,
   "id": "96bf6a93",
   "metadata": {
    "execution": {
     "iopub.execute_input": "2022-07-05T15:21:47.333197Z",
     "iopub.status.busy": "2022-07-05T15:21:47.332387Z",
     "iopub.status.idle": "2022-07-05T15:21:48.773677Z",
     "shell.execute_reply": "2022-07-05T15:21:48.772431Z"
    },
    "papermill": {
     "duration": 1.451546,
     "end_time": "2022-07-05T15:21:48.776484",
     "exception": false,
     "start_time": "2022-07-05T15:21:47.324938",
     "status": "completed"
    },
    "tags": []
   },
   "outputs": [],
   "source": [
    "import pandas as pd\n",
    "import seaborn as sns\n",
    "from sklearn.metrics import classification_report\n",
    "from sklearn.metrics import accuracy_score\n",
    "from sklearn.model_selection import train_test_split\n",
    "from sklearn.linear_model import LogisticRegression"
   ]
  },
  {
   "cell_type": "code",
   "execution_count": 3,
   "id": "d311cb2c",
   "metadata": {
    "execution": {
     "iopub.execute_input": "2022-07-05T15:21:48.792079Z",
     "iopub.status.busy": "2022-07-05T15:21:48.790965Z",
     "iopub.status.idle": "2022-07-05T15:21:48.826214Z",
     "shell.execute_reply": "2022-07-05T15:21:48.825155Z"
    },
    "papermill": {
     "duration": 0.045401,
     "end_time": "2022-07-05T15:21:48.828858",
     "exception": false,
     "start_time": "2022-07-05T15:21:48.783457",
     "status": "completed"
    },
    "tags": []
   },
   "outputs": [
    {
     "data": {
      "text/html": [
       "<div>\n",
       "<style scoped>\n",
       "    .dataframe tbody tr th:only-of-type {\n",
       "        vertical-align: middle;\n",
       "    }\n",
       "\n",
       "    .dataframe tbody tr th {\n",
       "        vertical-align: top;\n",
       "    }\n",
       "\n",
       "    .dataframe thead th {\n",
       "        text-align: right;\n",
       "    }\n",
       "</style>\n",
       "<table border=\"1\" class=\"dataframe\">\n",
       "  <thead>\n",
       "    <tr style=\"text-align: right;\">\n",
       "      <th></th>\n",
       "      <th>Emitten</th>\n",
       "      <th>DER</th>\n",
       "      <th>Operating Profit Margin</th>\n",
       "      <th>Return On Asset</th>\n",
       "      <th>Sales Growth</th>\n",
       "      <th>Category</th>\n",
       "    </tr>\n",
       "  </thead>\n",
       "  <tbody>\n",
       "    <tr>\n",
       "      <th>0</th>\n",
       "      <td>ARGO</td>\n",
       "      <td>-1.82</td>\n",
       "      <td>-59.18</td>\n",
       "      <td>-0.07</td>\n",
       "      <td>48.70</td>\n",
       "      <td>2.0</td>\n",
       "    </tr>\n",
       "    <tr>\n",
       "      <th>1</th>\n",
       "      <td>BATA</td>\n",
       "      <td>0.63</td>\n",
       "      <td>-78.25</td>\n",
       "      <td>-0.18</td>\n",
       "      <td>306.41</td>\n",
       "      <td>2.0</td>\n",
       "    </tr>\n",
       "    <tr>\n",
       "      <th>2</th>\n",
       "      <td>BELL</td>\n",
       "      <td>1.05</td>\n",
       "      <td>4.77</td>\n",
       "      <td>0.01</td>\n",
       "      <td>293.65</td>\n",
       "      <td>2.0</td>\n",
       "    </tr>\n",
       "    <tr>\n",
       "      <th>3</th>\n",
       "      <td>BIMA</td>\n",
       "      <td>33.25</td>\n",
       "      <td>-22.60</td>\n",
       "      <td>-0.12</td>\n",
       "      <td>27.82</td>\n",
       "      <td>0.0</td>\n",
       "    </tr>\n",
       "    <tr>\n",
       "      <th>4</th>\n",
       "      <td>CNTX</td>\n",
       "      <td>-4.74</td>\n",
       "      <td>-35.70</td>\n",
       "      <td>-0.13</td>\n",
       "      <td>200.76</td>\n",
       "      <td>2.0</td>\n",
       "    </tr>\n",
       "  </tbody>\n",
       "</table>\n",
       "</div>"
      ],
      "text/plain": [
       "  Emitten    DER  Operating Profit Margin  Return On Asset  Sales Growth  \\\n",
       "0    ARGO  -1.82                   -59.18            -0.07         48.70   \n",
       "1    BATA   0.63                   -78.25            -0.18        306.41   \n",
       "2    BELL   1.05                     4.77             0.01        293.65   \n",
       "3    BIMA  33.25                   -22.60            -0.12         27.82   \n",
       "4    CNTX  -4.74                   -35.70            -0.13        200.76   \n",
       "\n",
       "   Category  \n",
       "0       2.0  \n",
       "1       2.0  \n",
       "2       2.0  \n",
       "3       0.0  \n",
       "4       2.0  "
      ]
     },
     "execution_count": 3,
     "metadata": {},
     "output_type": "execute_result"
    }
   ],
   "source": [
    "df = pd.read_csv('../input/uas-bigdata/The Emitten.csv')\n",
    "df.head()"
   ]
  },
  {
   "cell_type": "code",
   "execution_count": 4,
   "id": "f3a4af8c",
   "metadata": {
    "execution": {
     "iopub.execute_input": "2022-07-05T15:21:48.844094Z",
     "iopub.status.busy": "2022-07-05T15:21:48.843410Z",
     "iopub.status.idle": "2022-07-05T15:21:48.855567Z",
     "shell.execute_reply": "2022-07-05T15:21:48.854253Z"
    },
    "papermill": {
     "duration": 0.022958,
     "end_time": "2022-07-05T15:21:48.858577",
     "exception": false,
     "start_time": "2022-07-05T15:21:48.835619",
     "status": "completed"
    },
    "tags": []
   },
   "outputs": [],
   "source": [
    "df.drop(['Emitten'], axis=1, inplace=True)"
   ]
  },
  {
   "cell_type": "code",
   "execution_count": 5,
   "id": "84101796",
   "metadata": {
    "execution": {
     "iopub.execute_input": "2022-07-05T15:21:48.872944Z",
     "iopub.status.busy": "2022-07-05T15:21:48.872536Z",
     "iopub.status.idle": "2022-07-05T15:21:48.881702Z",
     "shell.execute_reply": "2022-07-05T15:21:48.880542Z"
    },
    "papermill": {
     "duration": 0.01943,
     "end_time": "2022-07-05T15:21:48.884171",
     "exception": false,
     "start_time": "2022-07-05T15:21:48.864741",
     "status": "completed"
    },
    "tags": []
   },
   "outputs": [
    {
     "data": {
      "text/plain": [
       "array([[-1.82000e+00, -5.91800e+01, -7.00000e-02,  4.87000e+01,\n",
       "         2.00000e+00],\n",
       "       [ 6.30000e-01, -7.82500e+01, -1.80000e-01,  3.06410e+02,\n",
       "         2.00000e+00],\n",
       "       [ 1.05000e+00,  4.77000e+00,  1.00000e-02,  2.93650e+02,\n",
       "         2.00000e+00],\n",
       "       [ 3.32500e+01, -2.26000e+01, -1.20000e-01,  2.78200e+01,\n",
       "         0.00000e+00],\n",
       "       [-4.74000e+00, -3.57000e+01, -1.30000e-01,  2.00760e+02,\n",
       "         2.00000e+00],\n",
       "       [ 2.80000e+00,  1.95200e+01,  2.00000e-02,  9.84720e+02,\n",
       "         2.00000e+00],\n",
       "       [ 2.74000e+00,  1.45900e+01,  3.00000e-02,  3.11560e+02,\n",
       "         2.00000e+00],\n",
       "       [-3.52300e+01, -3.15500e+01, -1.00000e-01,  8.95000e+00,\n",
       "         1.00000e+00],\n",
       "       [ 1.26000e+00,  1.53070e+02,  6.00000e-02,  3.90550e+03,\n",
       "         3.00000e+00],\n",
       "       [ 9.50000e-01,  7.80630e+02,  9.00000e-02,  9.15200e+01,\n",
       "         2.00000e+00],\n",
       "       [ 1.69000e+00,  2.56800e+01,  4.00000e-02,  4.64640e+02,\n",
       "         1.00000e+00],\n",
       "       [-3.74600e+01, -1.12340e+02, -6.00000e-02,  1.16590e+02,\n",
       "         4.00000e+00],\n",
       "       [ 1.36000e+00,  2.49690e+02,  3.00000e-02,  7.27480e+02,\n",
       "         2.00000e+00],\n",
       "       [ 5.20000e-01, -2.05000e+00, -1.00000e-01,  7.28300e+01,\n",
       "         2.00000e+00],\n",
       "       [-1.24000e+00, -5.03500e+01, -2.00000e-02,  3.80810e+01,\n",
       "         2.00000e+00],\n",
       "       [ 4.38000e+00, -5.20500e+01, -3.00000e-02,  1.02870e+02,\n",
       "         2.00000e+00],\n",
       "       [ 2.98000e+00, -3.47800e+01, -8.00000e-02,  1.25950e+02,\n",
       "         2.00000e+00],\n",
       "       [ 1.75000e+00,  1.25100e+01,  5.00000e-02,  1.80640e+02,\n",
       "         2.00000e+00],\n",
       "       [ 7.50000e-01,  6.74100e+01,  1.30000e-01,  1.58480e+02,\n",
       "         3.00000e+00],\n",
       "       [ 9.00000e-02,  1.31800e+02,  4.00000e-02,  2.17935e+03,\n",
       "         2.00000e+00],\n",
       "       [ 6.00000e-01,  1.23000e+01,  1.00000e-02,  7.70850e+02,\n",
       "         2.00000e+00],\n",
       "       [ 4.70000e-01,  2.40000e-01,  4.00000e-02,  5.27900e+01,\n",
       "         0.00000e+00]])"
      ]
     },
     "execution_count": 5,
     "metadata": {},
     "output_type": "execute_result"
    }
   ],
   "source": [
    "np.asarray(df)\n"
   ]
  },
  {
   "cell_type": "code",
   "execution_count": 6,
   "id": "d6e97739",
   "metadata": {
    "execution": {
     "iopub.execute_input": "2022-07-05T15:21:48.898792Z",
     "iopub.status.busy": "2022-07-05T15:21:48.897975Z",
     "iopub.status.idle": "2022-07-05T15:21:49.609822Z",
     "shell.execute_reply": "2022-07-05T15:21:49.608723Z"
    },
    "papermill": {
     "duration": 0.722317,
     "end_time": "2022-07-05T15:21:49.612725",
     "exception": false,
     "start_time": "2022-07-05T15:21:48.890408",
     "status": "completed"
    },
    "tags": []
   },
   "outputs": [],
   "source": [
    "import statsmodels.api as sm"
   ]
  },
  {
   "cell_type": "code",
   "execution_count": 7,
   "id": "ab9b5e2e",
   "metadata": {
    "execution": {
     "iopub.execute_input": "2022-07-05T15:21:49.628030Z",
     "iopub.status.busy": "2022-07-05T15:21:49.626885Z",
     "iopub.status.idle": "2022-07-05T15:21:49.644918Z",
     "shell.execute_reply": "2022-07-05T15:21:49.644097Z"
    },
    "papermill": {
     "duration": 0.028191,
     "end_time": "2022-07-05T15:21:49.647191",
     "exception": false,
     "start_time": "2022-07-05T15:21:49.619000",
     "status": "completed"
    },
    "tags": []
   },
   "outputs": [
    {
     "data": {
      "text/html": [
       "<div>\n",
       "<style scoped>\n",
       "    .dataframe tbody tr th:only-of-type {\n",
       "        vertical-align: middle;\n",
       "    }\n",
       "\n",
       "    .dataframe tbody tr th {\n",
       "        vertical-align: top;\n",
       "    }\n",
       "\n",
       "    .dataframe thead th {\n",
       "        text-align: right;\n",
       "    }\n",
       "</style>\n",
       "<table border=\"1\" class=\"dataframe\">\n",
       "  <thead>\n",
       "    <tr style=\"text-align: right;\">\n",
       "      <th></th>\n",
       "      <th>DER</th>\n",
       "      <th>Operating Profit Margin</th>\n",
       "      <th>Return On Asset</th>\n",
       "      <th>Sales Growth</th>\n",
       "    </tr>\n",
       "  </thead>\n",
       "  <tbody>\n",
       "    <tr>\n",
       "      <th>0</th>\n",
       "      <td>-1.82</td>\n",
       "      <td>-59.18</td>\n",
       "      <td>-0.07</td>\n",
       "      <td>48.70</td>\n",
       "    </tr>\n",
       "    <tr>\n",
       "      <th>1</th>\n",
       "      <td>0.63</td>\n",
       "      <td>-78.25</td>\n",
       "      <td>-0.18</td>\n",
       "      <td>306.41</td>\n",
       "    </tr>\n",
       "    <tr>\n",
       "      <th>2</th>\n",
       "      <td>1.05</td>\n",
       "      <td>4.77</td>\n",
       "      <td>0.01</td>\n",
       "      <td>293.65</td>\n",
       "    </tr>\n",
       "    <tr>\n",
       "      <th>3</th>\n",
       "      <td>33.25</td>\n",
       "      <td>-22.60</td>\n",
       "      <td>-0.12</td>\n",
       "      <td>27.82</td>\n",
       "    </tr>\n",
       "    <tr>\n",
       "      <th>4</th>\n",
       "      <td>-4.74</td>\n",
       "      <td>-35.70</td>\n",
       "      <td>-0.13</td>\n",
       "      <td>200.76</td>\n",
       "    </tr>\n",
       "  </tbody>\n",
       "</table>\n",
       "</div>"
      ],
      "text/plain": [
       "     DER  Operating Profit Margin  Return On Asset  Sales Growth\n",
       "0  -1.82                   -59.18            -0.07         48.70\n",
       "1   0.63                   -78.25            -0.18        306.41\n",
       "2   1.05                     4.77             0.01        293.65\n",
       "3  33.25                   -22.60            -0.12         27.82\n",
       "4  -4.74                   -35.70            -0.13        200.76"
      ]
     },
     "execution_count": 7,
     "metadata": {},
     "output_type": "execute_result"
    }
   ],
   "source": [
    "x = df.drop('Category', axis=1)\n",
    "x.head()"
   ]
  },
  {
   "cell_type": "code",
   "execution_count": 8,
   "id": "68d261eb",
   "metadata": {
    "execution": {
     "iopub.execute_input": "2022-07-05T15:21:49.662521Z",
     "iopub.status.busy": "2022-07-05T15:21:49.661791Z",
     "iopub.status.idle": "2022-07-05T15:21:49.672220Z",
     "shell.execute_reply": "2022-07-05T15:21:49.671109Z"
    },
    "papermill": {
     "duration": 0.021068,
     "end_time": "2022-07-05T15:21:49.674887",
     "exception": false,
     "start_time": "2022-07-05T15:21:49.653819",
     "status": "completed"
    },
    "tags": []
   },
   "outputs": [
    {
     "data": {
      "text/plain": [
       "0    2.0\n",
       "1    2.0\n",
       "2    2.0\n",
       "3    0.0\n",
       "4    2.0\n",
       "Name: Category, dtype: float64"
      ]
     },
     "execution_count": 8,
     "metadata": {},
     "output_type": "execute_result"
    }
   ],
   "source": [
    "y = df['Category']\n",
    "y.head()"
   ]
  },
  {
   "cell_type": "code",
   "execution_count": 9,
   "id": "e99c018f",
   "metadata": {
    "execution": {
     "iopub.execute_input": "2022-07-05T15:21:49.689714Z",
     "iopub.status.busy": "2022-07-05T15:21:49.689311Z",
     "iopub.status.idle": "2022-07-05T15:21:49.696875Z",
     "shell.execute_reply": "2022-07-05T15:21:49.695600Z"
    },
    "papermill": {
     "duration": 0.01821,
     "end_time": "2022-07-05T15:21:49.699646",
     "exception": false,
     "start_time": "2022-07-05T15:21:49.681436",
     "status": "completed"
    },
    "tags": []
   },
   "outputs": [],
   "source": [
    "x_train, x_test, y_train, y_test = train_test_split(x,y, test_size=0.2)"
   ]
  },
  {
   "cell_type": "code",
   "execution_count": 10,
   "id": "103f62ad",
   "metadata": {
    "execution": {
     "iopub.execute_input": "2022-07-05T15:21:49.714856Z",
     "iopub.status.busy": "2022-07-05T15:21:49.714029Z",
     "iopub.status.idle": "2022-07-05T15:21:49.736496Z",
     "shell.execute_reply": "2022-07-05T15:21:49.735610Z"
    },
    "papermill": {
     "duration": 0.032522,
     "end_time": "2022-07-05T15:21:49.738706",
     "exception": false,
     "start_time": "2022-07-05T15:21:49.706184",
     "status": "completed"
    },
    "tags": []
   },
   "outputs": [
    {
     "data": {
      "text/html": [
       "<div>\n",
       "<style scoped>\n",
       "    .dataframe tbody tr th:only-of-type {\n",
       "        vertical-align: middle;\n",
       "    }\n",
       "\n",
       "    .dataframe tbody tr th {\n",
       "        vertical-align: top;\n",
       "    }\n",
       "\n",
       "    .dataframe thead th {\n",
       "        text-align: right;\n",
       "    }\n",
       "</style>\n",
       "<table border=\"1\" class=\"dataframe\">\n",
       "  <thead>\n",
       "    <tr style=\"text-align: right;\">\n",
       "      <th></th>\n",
       "      <th>const</th>\n",
       "      <th>DER</th>\n",
       "      <th>Operating Profit Margin</th>\n",
       "      <th>Return On Asset</th>\n",
       "      <th>Sales Growth</th>\n",
       "    </tr>\n",
       "  </thead>\n",
       "  <tbody>\n",
       "    <tr>\n",
       "      <th>14</th>\n",
       "      <td>1.0</td>\n",
       "      <td>-1.24</td>\n",
       "      <td>-50.35</td>\n",
       "      <td>-0.02</td>\n",
       "      <td>38.081</td>\n",
       "    </tr>\n",
       "    <tr>\n",
       "      <th>18</th>\n",
       "      <td>1.0</td>\n",
       "      <td>0.75</td>\n",
       "      <td>67.41</td>\n",
       "      <td>0.13</td>\n",
       "      <td>158.480</td>\n",
       "    </tr>\n",
       "    <tr>\n",
       "      <th>6</th>\n",
       "      <td>1.0</td>\n",
       "      <td>2.74</td>\n",
       "      <td>14.59</td>\n",
       "      <td>0.03</td>\n",
       "      <td>311.560</td>\n",
       "    </tr>\n",
       "    <tr>\n",
       "      <th>21</th>\n",
       "      <td>1.0</td>\n",
       "      <td>0.47</td>\n",
       "      <td>0.24</td>\n",
       "      <td>0.04</td>\n",
       "      <td>52.790</td>\n",
       "    </tr>\n",
       "    <tr>\n",
       "      <th>15</th>\n",
       "      <td>1.0</td>\n",
       "      <td>4.38</td>\n",
       "      <td>-52.05</td>\n",
       "      <td>-0.03</td>\n",
       "      <td>102.870</td>\n",
       "    </tr>\n",
       "    <tr>\n",
       "      <th>9</th>\n",
       "      <td>1.0</td>\n",
       "      <td>0.95</td>\n",
       "      <td>780.63</td>\n",
       "      <td>0.09</td>\n",
       "      <td>91.520</td>\n",
       "    </tr>\n",
       "    <tr>\n",
       "      <th>7</th>\n",
       "      <td>1.0</td>\n",
       "      <td>-35.23</td>\n",
       "      <td>-31.55</td>\n",
       "      <td>-0.10</td>\n",
       "      <td>8.950</td>\n",
       "    </tr>\n",
       "    <tr>\n",
       "      <th>20</th>\n",
       "      <td>1.0</td>\n",
       "      <td>0.60</td>\n",
       "      <td>12.30</td>\n",
       "      <td>0.01</td>\n",
       "      <td>770.850</td>\n",
       "    </tr>\n",
       "    <tr>\n",
       "      <th>13</th>\n",
       "      <td>1.0</td>\n",
       "      <td>0.52</td>\n",
       "      <td>-2.05</td>\n",
       "      <td>-0.10</td>\n",
       "      <td>72.830</td>\n",
       "    </tr>\n",
       "    <tr>\n",
       "      <th>10</th>\n",
       "      <td>1.0</td>\n",
       "      <td>1.69</td>\n",
       "      <td>25.68</td>\n",
       "      <td>0.04</td>\n",
       "      <td>464.640</td>\n",
       "    </tr>\n",
       "    <tr>\n",
       "      <th>17</th>\n",
       "      <td>1.0</td>\n",
       "      <td>1.75</td>\n",
       "      <td>12.51</td>\n",
       "      <td>0.05</td>\n",
       "      <td>180.640</td>\n",
       "    </tr>\n",
       "    <tr>\n",
       "      <th>12</th>\n",
       "      <td>1.0</td>\n",
       "      <td>1.36</td>\n",
       "      <td>249.69</td>\n",
       "      <td>0.03</td>\n",
       "      <td>727.480</td>\n",
       "    </tr>\n",
       "    <tr>\n",
       "      <th>16</th>\n",
       "      <td>1.0</td>\n",
       "      <td>2.98</td>\n",
       "      <td>-34.78</td>\n",
       "      <td>-0.08</td>\n",
       "      <td>125.950</td>\n",
       "    </tr>\n",
       "    <tr>\n",
       "      <th>2</th>\n",
       "      <td>1.0</td>\n",
       "      <td>1.05</td>\n",
       "      <td>4.77</td>\n",
       "      <td>0.01</td>\n",
       "      <td>293.650</td>\n",
       "    </tr>\n",
       "    <tr>\n",
       "      <th>1</th>\n",
       "      <td>1.0</td>\n",
       "      <td>0.63</td>\n",
       "      <td>-78.25</td>\n",
       "      <td>-0.18</td>\n",
       "      <td>306.410</td>\n",
       "    </tr>\n",
       "    <tr>\n",
       "      <th>8</th>\n",
       "      <td>1.0</td>\n",
       "      <td>1.26</td>\n",
       "      <td>153.07</td>\n",
       "      <td>0.06</td>\n",
       "      <td>3905.500</td>\n",
       "    </tr>\n",
       "    <tr>\n",
       "      <th>19</th>\n",
       "      <td>1.0</td>\n",
       "      <td>0.09</td>\n",
       "      <td>131.80</td>\n",
       "      <td>0.04</td>\n",
       "      <td>2179.350</td>\n",
       "    </tr>\n",
       "  </tbody>\n",
       "</table>\n",
       "</div>"
      ],
      "text/plain": [
       "    const    DER  Operating Profit Margin  Return On Asset  Sales Growth\n",
       "14    1.0  -1.24                   -50.35            -0.02        38.081\n",
       "18    1.0   0.75                    67.41             0.13       158.480\n",
       "6     1.0   2.74                    14.59             0.03       311.560\n",
       "21    1.0   0.47                     0.24             0.04        52.790\n",
       "15    1.0   4.38                   -52.05            -0.03       102.870\n",
       "9     1.0   0.95                   780.63             0.09        91.520\n",
       "7     1.0 -35.23                   -31.55            -0.10         8.950\n",
       "20    1.0   0.60                    12.30             0.01       770.850\n",
       "13    1.0   0.52                    -2.05            -0.10        72.830\n",
       "10    1.0   1.69                    25.68             0.04       464.640\n",
       "17    1.0   1.75                    12.51             0.05       180.640\n",
       "12    1.0   1.36                   249.69             0.03       727.480\n",
       "16    1.0   2.98                   -34.78            -0.08       125.950\n",
       "2     1.0   1.05                     4.77             0.01       293.650\n",
       "1     1.0   0.63                   -78.25            -0.18       306.410\n",
       "8     1.0   1.26                   153.07             0.06      3905.500\n",
       "19    1.0   0.09                   131.80             0.04      2179.350"
      ]
     },
     "execution_count": 10,
     "metadata": {},
     "output_type": "execute_result"
    }
   ],
   "source": [
    "x_train_sm = sm.add_constant(x_train)\n",
    "x_train_sm"
   ]
  },
  {
   "cell_type": "code",
   "execution_count": 11,
   "id": "c88ece30",
   "metadata": {
    "execution": {
     "iopub.execute_input": "2022-07-05T15:21:49.754190Z",
     "iopub.status.busy": "2022-07-05T15:21:49.753537Z",
     "iopub.status.idle": "2022-07-05T15:21:49.800929Z",
     "shell.execute_reply": "2022-07-05T15:21:49.799253Z"
    },
    "papermill": {
     "duration": 0.063718,
     "end_time": "2022-07-05T15:21:49.809234",
     "exception": false,
     "start_time": "2022-07-05T15:21:49.745516",
     "status": "completed"
    },
    "tags": []
   },
   "outputs": [
    {
     "name": "stdout",
     "output_type": "stream",
     "text": [
      "Optimization terminated successfully.\n",
      "         Current function value: nan\n",
      "         Iterations 16\n"
     ]
    },
    {
     "name": "stderr",
     "output_type": "stream",
     "text": [
      "/opt/conda/lib/python3.7/site-packages/statsmodels/discrete/discrete_model.py:2299: RuntimeWarning: overflow encountered in exp\n",
      "  eXB = np.column_stack((np.ones(len(X)), np.exp(X)))\n",
      "/opt/conda/lib/python3.7/site-packages/statsmodels/discrete/discrete_model.py:2300: RuntimeWarning: invalid value encountered in true_divide\n",
      "  return eXB/eXB.sum(1)[:,None]\n"
     ]
    }
   ],
   "source": [
    "mnlogit_mod = sm.MNLogit(y_train, x_train_sm)\n",
    "mnlogit_fit = mnlogit_mod.fit()"
   ]
  },
  {
   "cell_type": "code",
   "execution_count": 12,
   "id": "5455b4a1",
   "metadata": {
    "execution": {
     "iopub.execute_input": "2022-07-05T15:21:49.839210Z",
     "iopub.status.busy": "2022-07-05T15:21:49.837944Z",
     "iopub.status.idle": "2022-07-05T15:21:49.924344Z",
     "shell.execute_reply": "2022-07-05T15:21:49.923129Z"
    },
    "papermill": {
     "duration": 0.104131,
     "end_time": "2022-07-05T15:21:49.926959",
     "exception": false,
     "start_time": "2022-07-05T15:21:49.822828",
     "status": "completed"
    },
    "tags": []
   },
   "outputs": [
    {
     "name": "stdout",
     "output_type": "stream",
     "text": [
      "                          MNLogit Regression Results                          \n",
      "==============================================================================\n",
      "Dep. Variable:               Category   No. Observations:                   17\n",
      "Model:                        MNLogit   Df Residuals:                        2\n",
      "Method:                           MLE   Df Model:                           12\n",
      "Date:                Tue, 05 Jul 2022   Pseudo R-squ.:                     nan\n",
      "Time:                        15:21:49   Log-Likelihood:                    nan\n",
      "converged:                       True   LL-Null:                       -15.573\n",
      "Covariance Type:            nonrobust   LLR p-value:                       nan\n",
      "===========================================================================================\n",
      "             Category=1       coef    std err          z      P>|z|      [0.025      0.975]\n",
      "-------------------------------------------------------------------------------------------\n",
      "const                          nan        nan        nan        nan         nan         nan\n",
      "DER                            nan        nan        nan        nan         nan         nan\n",
      "Operating Profit Margin        nan        nan        nan        nan         nan         nan\n",
      "Return On Asset                nan        nan        nan        nan         nan         nan\n",
      "Sales Growth                   nan        nan        nan        nan         nan         nan\n",
      "-------------------------------------------------------------------------------------------\n",
      "             Category=2       coef    std err          z      P>|z|      [0.025      0.975]\n",
      "-------------------------------------------------------------------------------------------\n",
      "const                          nan        nan        nan        nan         nan         nan\n",
      "DER                            nan        nan        nan        nan         nan         nan\n",
      "Operating Profit Margin        nan        nan        nan        nan         nan         nan\n",
      "Return On Asset                nan        nan        nan        nan         nan         nan\n",
      "Sales Growth                   nan        nan        nan        nan         nan         nan\n",
      "-------------------------------------------------------------------------------------------\n",
      "             Category=3       coef    std err          z      P>|z|      [0.025      0.975]\n",
      "-------------------------------------------------------------------------------------------\n",
      "const                          nan        nan        nan        nan         nan         nan\n",
      "DER                            nan        nan        nan        nan         nan         nan\n",
      "Operating Profit Margin        nan        nan        nan        nan         nan         nan\n",
      "Return On Asset                nan        nan        nan        nan         nan         nan\n",
      "Sales Growth                   nan        nan        nan        nan         nan         nan\n",
      "===========================================================================================\n"
     ]
    }
   ],
   "source": [
    "print (mnlogit_fit.summary())"
   ]
  },
  {
   "cell_type": "code",
   "execution_count": 13,
   "id": "3e5da57e",
   "metadata": {
    "execution": {
     "iopub.execute_input": "2022-07-05T15:21:49.943586Z",
     "iopub.status.busy": "2022-07-05T15:21:49.942747Z",
     "iopub.status.idle": "2022-07-05T15:21:49.985982Z",
     "shell.execute_reply": "2022-07-05T15:21:49.984768Z"
    },
    "papermill": {
     "duration": 0.054324,
     "end_time": "2022-07-05T15:21:49.988545",
     "exception": false,
     "start_time": "2022-07-05T15:21:49.934221",
     "status": "completed"
    },
    "tags": []
   },
   "outputs": [
    {
     "name": "stderr",
     "output_type": "stream",
     "text": [
      "/opt/conda/lib/python3.7/site-packages/sklearn/linear_model/_logistic.py:818: ConvergenceWarning: lbfgs failed to converge (status=1):\n",
      "STOP: TOTAL NO. of ITERATIONS REACHED LIMIT.\n",
      "\n",
      "Increase the number of iterations (max_iter) or scale the data as shown in:\n",
      "    https://scikit-learn.org/stable/modules/preprocessing.html\n",
      "Please also refer to the documentation for alternative solver options:\n",
      "    https://scikit-learn.org/stable/modules/linear_model.html#logistic-regression\n",
      "  extra_warning_msg=_LOGISTIC_SOLVER_CONVERGENCE_MSG,\n"
     ]
    },
    {
     "data": {
      "text/plain": [
       "LogisticRegression()"
      ]
     },
     "execution_count": 13,
     "metadata": {},
     "output_type": "execute_result"
    }
   ],
   "source": [
    "model = LogisticRegression(multi_class='auto')\n",
    "model.fit(x_train, y_train)"
   ]
  },
  {
   "cell_type": "code",
   "execution_count": 14,
   "id": "deef6091",
   "metadata": {
    "execution": {
     "iopub.execute_input": "2022-07-05T15:21:50.005261Z",
     "iopub.status.busy": "2022-07-05T15:21:50.004821Z",
     "iopub.status.idle": "2022-07-05T15:21:50.012699Z",
     "shell.execute_reply": "2022-07-05T15:21:50.011462Z"
    },
    "papermill": {
     "duration": 0.019213,
     "end_time": "2022-07-05T15:21:50.015182",
     "exception": false,
     "start_time": "2022-07-05T15:21:49.995969",
     "status": "completed"
    },
    "tags": []
   },
   "outputs": [
    {
     "data": {
      "text/plain": [
       "LogisticRegression()"
      ]
     },
     "execution_count": 14,
     "metadata": {},
     "output_type": "execute_result"
    }
   ],
   "source": [
    "LogisticRegression()"
   ]
  },
  {
   "cell_type": "code",
   "execution_count": 15,
   "id": "db92866a",
   "metadata": {
    "execution": {
     "iopub.execute_input": "2022-07-05T15:21:50.032116Z",
     "iopub.status.busy": "2022-07-05T15:21:50.031665Z",
     "iopub.status.idle": "2022-07-05T15:21:50.041165Z",
     "shell.execute_reply": "2022-07-05T15:21:50.040240Z"
    },
    "papermill": {
     "duration": 0.020671,
     "end_time": "2022-07-05T15:21:50.043394",
     "exception": false,
     "start_time": "2022-07-05T15:21:50.022723",
     "status": "completed"
    },
    "tags": []
   },
   "outputs": [
    {
     "data": {
      "text/plain": [
       "array([[2.13852496e-01, 3.51736827e-01, 3.67885440e-01, 6.65252364e-02],\n",
       "       [1.73063928e-02, 5.68878242e-01, 2.64258695e-01, 1.49556670e-01],\n",
       "       [1.80833490e-03, 3.20172898e-07, 9.98190075e-01, 1.27032171e-06],\n",
       "       [2.81595124e-05, 9.93148756e-01, 2.13414724e-07, 6.82287087e-03],\n",
       "       [6.74607083e-08, 3.74918809e-02, 8.72302052e-01, 9.02060000e-02]])"
      ]
     },
     "execution_count": 15,
     "metadata": {},
     "output_type": "execute_result"
    }
   ],
   "source": [
    "model.predict_proba(x_test)[0:5]"
   ]
  },
  {
   "cell_type": "code",
   "execution_count": 16,
   "id": "3fd08d1f",
   "metadata": {
    "execution": {
     "iopub.execute_input": "2022-07-05T15:21:50.060775Z",
     "iopub.status.busy": "2022-07-05T15:21:50.060059Z",
     "iopub.status.idle": "2022-07-05T15:21:50.068549Z",
     "shell.execute_reply": "2022-07-05T15:21:50.067681Z"
    },
    "papermill": {
     "duration": 0.01963,
     "end_time": "2022-07-05T15:21:50.070655",
     "exception": false,
     "start_time": "2022-07-05T15:21:50.051025",
     "status": "completed"
    },
    "tags": []
   },
   "outputs": [
    {
     "data": {
      "text/plain": [
       "array([2., 1., 2., 1., 2.])"
      ]
     },
     "execution_count": 16,
     "metadata": {},
     "output_type": "execute_result"
    }
   ],
   "source": [
    "predictions = model.predict(x_test)\n",
    "predictions"
   ]
  },
  {
   "cell_type": "code",
   "execution_count": 17,
   "id": "a75f1f61",
   "metadata": {
    "execution": {
     "iopub.execute_input": "2022-07-05T15:21:50.088295Z",
     "iopub.status.busy": "2022-07-05T15:21:50.087862Z",
     "iopub.status.idle": "2022-07-05T15:21:50.103646Z",
     "shell.execute_reply": "2022-07-05T15:21:50.102133Z"
    },
    "papermill": {
     "duration": 0.027807,
     "end_time": "2022-07-05T15:21:50.106331",
     "exception": false,
     "start_time": "2022-07-05T15:21:50.078524",
     "status": "completed"
    },
    "tags": []
   },
   "outputs": [
    {
     "name": "stdout",
     "output_type": "stream",
     "text": [
      "              precision    recall  f1-score   support\n",
      "\n",
      "         0.0       0.00      0.00      0.00         1\n",
      "         1.0       0.00      0.00      0.00         0\n",
      "         2.0       0.67      0.67      0.67         3\n",
      "         4.0       0.00      0.00      0.00         1\n",
      "\n",
      "    accuracy                           0.40         5\n",
      "   macro avg       0.17      0.17      0.17         5\n",
      "weighted avg       0.40      0.40      0.40         5\n",
      "\n"
     ]
    },
    {
     "name": "stderr",
     "output_type": "stream",
     "text": [
      "/opt/conda/lib/python3.7/site-packages/sklearn/metrics/_classification.py:1318: UndefinedMetricWarning: Precision and F-score are ill-defined and being set to 0.0 in labels with no predicted samples. Use `zero_division` parameter to control this behavior.\n",
      "  _warn_prf(average, modifier, msg_start, len(result))\n",
      "/opt/conda/lib/python3.7/site-packages/sklearn/metrics/_classification.py:1318: UndefinedMetricWarning: Recall and F-score are ill-defined and being set to 0.0 in labels with no true samples. Use `zero_division` parameter to control this behavior.\n",
      "  _warn_prf(average, modifier, msg_start, len(result))\n",
      "/opt/conda/lib/python3.7/site-packages/sklearn/metrics/_classification.py:1318: UndefinedMetricWarning: Precision and F-score are ill-defined and being set to 0.0 in labels with no predicted samples. Use `zero_division` parameter to control this behavior.\n",
      "  _warn_prf(average, modifier, msg_start, len(result))\n",
      "/opt/conda/lib/python3.7/site-packages/sklearn/metrics/_classification.py:1318: UndefinedMetricWarning: Recall and F-score are ill-defined and being set to 0.0 in labels with no true samples. Use `zero_division` parameter to control this behavior.\n",
      "  _warn_prf(average, modifier, msg_start, len(result))\n",
      "/opt/conda/lib/python3.7/site-packages/sklearn/metrics/_classification.py:1318: UndefinedMetricWarning: Precision and F-score are ill-defined and being set to 0.0 in labels with no predicted samples. Use `zero_division` parameter to control this behavior.\n",
      "  _warn_prf(average, modifier, msg_start, len(result))\n",
      "/opt/conda/lib/python3.7/site-packages/sklearn/metrics/_classification.py:1318: UndefinedMetricWarning: Recall and F-score are ill-defined and being set to 0.0 in labels with no true samples. Use `zero_division` parameter to control this behavior.\n",
      "  _warn_prf(average, modifier, msg_start, len(result))\n"
     ]
    }
   ],
   "source": [
    "print(classification_report(y_test, predictions))"
   ]
  },
  {
   "cell_type": "code",
   "execution_count": 18,
   "id": "6d129ed0",
   "metadata": {
    "execution": {
     "iopub.execute_input": "2022-07-05T15:21:50.124143Z",
     "iopub.status.busy": "2022-07-05T15:21:50.123711Z",
     "iopub.status.idle": "2022-07-05T15:21:50.130268Z",
     "shell.execute_reply": "2022-07-05T15:21:50.129006Z"
    },
    "papermill": {
     "duration": 0.018246,
     "end_time": "2022-07-05T15:21:50.132688",
     "exception": false,
     "start_time": "2022-07-05T15:21:50.114442",
     "status": "completed"
    },
    "tags": []
   },
   "outputs": [
    {
     "name": "stdout",
     "output_type": "stream",
     "text": [
      "0.4\n"
     ]
    }
   ],
   "source": [
    "print(accuracy_score(y_test, predictions))"
   ]
  }
 ],
 "metadata": {
  "kernelspec": {
   "display_name": "Python 3",
   "language": "python",
   "name": "python3"
  },
  "language_info": {
   "codemirror_mode": {
    "name": "ipython",
    "version": 3
   },
   "file_extension": ".py",
   "mimetype": "text/x-python",
   "name": "python",
   "nbconvert_exporter": "python",
   "pygments_lexer": "ipython3",
   "version": "3.7.12"
  },
  "papermill": {
   "default_parameters": {},
   "duration": 14.217631,
   "end_time": "2022-07-05T15:21:50.965016",
   "environment_variables": {},
   "exception": null,
   "input_path": "__notebook__.ipynb",
   "output_path": "__notebook__.ipynb",
   "parameters": {},
   "start_time": "2022-07-05T15:21:36.747385",
   "version": "2.3.4"
  }
 },
 "nbformat": 4,
 "nbformat_minor": 5
}
